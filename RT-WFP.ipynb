{
 "cells": [
  {
   "cell_type": "code",
   "execution_count": 2,
   "id": "dfb43796",
   "metadata": {},
   "outputs": [
    {
     "name": "stdout",
     "output_type": "stream",
     "text": [
      "环境创建成功\n"
     ]
    }
   ],
   "source": [
    "import math\n",
    "import numpy as np\n",
    "import pandas as pd\n",
    "import csv\n",
    "from tqdm import tqdm\n",
    "\n",
    "print('环境创建成功')"
   ]
  },
  {
   "cell_type": "code",
   "execution_count": 2,
   "id": "b9385a33",
   "metadata": {},
   "outputs": [],
   "source": [
    "class dotPair(object):  # 点对，用于表示组成三角形的三个线段\n",
    "    abc = []\n",
    "    def __init__(self, sPoint=None, ePoint=None):\n",
    "        self.sPoint = sPoint\n",
    "        self.ePoint = ePoint\n",
    "        self.sp = [self.sPoint[0], self.sPoint[1]]\n",
    "        self.ep = [self.ePoint[0], self.ePoint[1]]\n",
    "        self.abc = [self.sp[1] - self.ep[1], self.ep[0] - self.sp[0], np.linalg.det([self.sp, self.ep])]"
   ]
  },
  {
   "cell_type": "code",
   "execution_count": 3,
   "id": "a9a63012",
   "metadata": {},
   "outputs": [],
   "source": [
    "class line(object):  # 射线类，具有起始点以及方向，用于表示每个三角形上水流的起始点以及流动的方向\n",
    "    sPoint = []\n",
    "    theta = []\n",
    "    alpha = []\n",
    "    abc = []\n",
    "\n",
    "    def __init__(self, sPoint=None, alpha=None):  # 输入的alpha为坡向\n",
    "        self.sPoint = sPoint\n",
    "        if alpha[0] <= math.pi / 2:   \n",
    "            theta = math.pi / 2 - alpha[0]      #此处的theta为直线的倾斜角\n",
    "        elif math.pi / 2 < alpha[0] <= math.pi * 3 / 2:\n",
    "            theta = math.pi * 3 / 2 - alpha[0]\n",
    "        else:\n",
    "            theta = math.pi * 5 / 2 - alpha[0]\n",
    "        self.theta = [round(np.cos(theta), 6), round(np.sin(theta), 6)]   # 计算倾斜角的余弦正弦值，用于求射线的一般式方程的abc系数\n",
    "        self.alpha = [round(np.sin(alpha[0]), 6), round(np.cos(alpha[0]), 6)]  # 计算坡向的正弦余弦值，用于判别交点是否在射线方向上\n",
    "        self.sp = [self.sPoint[0], self.sPoint[1]]\n",
    "        self.abc = [self.theta[1], -self.theta[0], np.linalg.det([self.theta, self.sp])]"
   ]
  },
  {
   "cell_type": "code",
   "execution_count": 4,
   "id": "32cc5c5b",
   "metadata": {},
   "outputs": [],
   "source": [
    "def ifIntersect(line1, line2):  # 判断射线与线段是否有交点，如果有交点则返回1。\n",
    "    sFlag = np.sum(np.array(line1.abc) * np.array([line2.sPoint[0], line2.sPoint[1], 1]))\n",
    "    eFlag = np.sum(np.array(line1.abc) * np.array([line2.ePoint[0], line2.ePoint[1], 1]))\n",
    "    if round(sFlag * eFlag) <= 0:   # 有交点的话，将线段的两个端点带入射线的方程ax+by+c，得出的结果一定是异号。\n",
    "        num = 1\n",
    "    else:\n",
    "        num = 0\n",
    "    return num"
   ]
  },
  {
   "cell_type": "code",
   "execution_count": 5,
   "id": "9bc539ab",
   "metadata": {},
   "outputs": [],
   "source": [
    "def getDistance(ray, dp):  # l1是射线，l2是线段\n",
    "#     Dotabc = [dp.sPoint[1] - dp.ePoint[1], dp.ePoint[0] - dp.sPoint[0], np.linalg.det([dp.sp, dp.ep])]  # 计算线段的一般式方程的abc三个系数\n",
    "    delta = ray.abc[0] * dp.abc[1] - dp.abc[0] * ray.abc[1]\n",
    "    if delta == 0:\n",
    "        return None\n",
    "    c1 = (ray.abc[1] * dp.abc[2] - dp.abc[1] * ray.abc[2]) / delta\n",
    "    c2 = (dp.abc[0] * ray.abc[2] - ray.abc[0] * dp.abc[2]) / delta\n",
    "    cross = [round(c1, 2), round(c2, 2)]  # 利用判别式求射线与线段的交点坐标\n",
    "    distance = math.sqrt((ray.sPoint[0] - cross[0]) ** 2 + (ray.sPoint[1] - cross[1]) ** 2)\n",
    "    if cross == ray.sp or distance < 0.005:   # 如果交点恰好是射线的起点，则返回None，否则后续迭代计算时，若第一步的线段恰好是上一步交点所在的线段，判断会停止\n",
    "        return None\n",
    "    d1 = (cross[0] - ray.sPoint[0]) * ray.alpha[0]   # 判断交点是否在射线方向上。若在射线方向上，则交点和始点的x、y的差值分别与坡向的正弦、余弦三角函数同号\n",
    "    d2 = (cross[1] - ray.sPoint[1]) * ray.alpha[1]\n",
    "    d3 = ifIntersect(ray, dp)\n",
    "    if d1 >= 0 and d2 >= 0 and d3 == 1:\n",
    "#         distance = math.sqrt((ray.sPoint[0] - cross[0]) ** 2 + (ray.sPoint[1] - cross[1]) ** 2)\n",
    "        return cross, round(distance, 6)"
   ]
  },
  {
   "cell_type": "code",
   "execution_count": null,
   "id": "cd0ade4c",
   "metadata": {},
   "outputs": [],
   "source": [
    "tn = pd.read_csv(\"/300mspacejoin.csv\")\n",
    "for i in tn.index:\n",
    "    if tn.iloc[i,1] < 180:\n",
    "        tn.iloc[i,1] = (tn.iloc[i,1] + 180)*math.pi/180\n",
    "    else:\n",
    "        tn.iloc[i,1] = (tn.iloc[i,1] - 180)*math.pi/180"
   ]
  },
  {
   "cell_type": "markdown",
   "id": "cfee8cb5",
   "metadata": {},
   "source": [
    "# 数据清洗"
   ]
  },
  {
   "cell_type": "code",
   "execution_count": null,
   "id": "cf5dd341",
   "metadata": {},
   "outputs": [],
   "source": [
    "tin_nodes = tn.groupby(['Tri_Index','Slope_Pct','Aspect','Node_Index']).first()"
   ]
  },
  {
   "cell_type": "code",
   "execution_count": null,
   "id": "366a3eb4",
   "metadata": {},
   "outputs": [],
   "source": [
    "temp = tin_nodes.to_dict()['TinNod.xyz']\n",
    "tndict = {}"
   ]
  },
  {
   "cell_type": "markdown",
   "id": "b4018b2f",
   "metadata": {},
   "source": [
    "## 字典tndict（Tin-Node Dict)\n",
    "\n",
    "格式如下：\n",
    "\n",
    "```python\n",
    "tndict = {\n",
    "    '(tri_index_1, slope_Deg, aspect)': \n",
    "        {\n",
    "        'node_index_1': 'coord_x, coord_y，coord_z',\n",
    "        'node_index_2': 'coord_x, coord_y，coord_z',\n",
    "        'node_index_3': 'coord_x, coord_y，coord_z'\n",
    "        },\n",
    "    ...,\n",
    "    '(tri_index_n, slope_Deg, aspect)': \n",
    "        {\n",
    "        'node_index_1': 'coord_x, coord_y，coord_z',\n",
    "        'node_index_2': 'coord_x, coord_y，coord_z',\n",
    "        'node_index_3': 'coord_x, coord_y，coord_z'\n",
    "        }\n",
    "}\n",
    "```\n",
    "该字典中，键为一个元组，元组中的元素为三角形编号，该三角形的坡度，坡向；值为一个字典,该字典有三个键值对，键为组成对应值字典的键中三角形的三个节点编号，值为该节点编号的xyz坐标。"
   ]
  },
  {
   "cell_type": "code",
   "execution_count": null,
   "id": "af35e03a",
   "metadata": {},
   "outputs": [],
   "source": [
    "for k in temp:\n",
    "    tid = (k[0],k[1],k[2])\n",
    "    nid = k[3]\n",
    "    nodxzy = temp[k]\n",
    "    if tid not in tndict:\n",
    "        tndict[tid] = {}\n",
    "    tndict[tid][nid] = nodxzy   "
   ]
  },
  {
   "cell_type": "code",
   "execution_count": 13,
   "id": "25780697",
   "metadata": {
    "scrolled": true
   },
   "outputs": [
    {
     "name": "stderr",
     "output_type": "stream",
     "text": [
      "C:\\Users\\LZY\\AppData\\Local\\Temp/ipykernel_1960/4093753947.py:1: FutureWarning: Indexing with multiple keys (implicitly converted to a tuple of keys) will be deprecated, use a list instead.\n",
      "  nodes_tin =tn.groupby(['Node_Index','Tri_Index'])['Slope_Pct','Aspect'].first()\n"
     ]
    }
   ],
   "source": [
    "nodes_tin =tn.groupby(['Node_Index','Tri_Index'])['Slope_Pct','Aspect'].first()\n",
    "#nodes_tin.index"
   ]
  },
  {
   "cell_type": "markdown",
   "id": "b17653ed",
   "metadata": {},
   "source": [
    "## 字典ntdict（Node - Tin Dict）\n",
    "\n",
    "用于查询某个节点属于哪些三角形的组成节点。"
   ]
  },
  {
   "cell_type": "code",
   "execution_count": null,
   "id": "b9ed3c60",
   "metadata": {},
   "outputs": [],
   "source": [
    "ntdict = {}\n",
    "for i in nodes_tin.index:\n",
    "    nid = i[0]\n",
    "    tid = i[1]\n",
    "    if nid not in ntdict:\n",
    "        ntdict[nid] = []\n",
    "    ntdict[nid].append(tid)"
   ]
  },
  {
   "cell_type": "markdown",
   "id": "2b109ce5",
   "metadata": {},
   "source": [
    "## 字典pt（每个三角面片上随机采样的起始点）\n",
    "\n",
    "格式如下：\n",
    "\n",
    "```python\n",
    "pt = {\n",
    "    '(tri_index_1, slope_Deg, aspect)': 'coord_x, coord_y',\n",
    "    ...,\n",
    "    '(tri_index_n, slope_Deg, aspect)': 'coord_x, coord_y'\n",
    "}\n",
    "```\n",
    "该字典中，键为一个元组，元组中的元素为三角形编号，该三角形的坡度，坡向，代表该随机点所在的三角面片的信息；值是随机点的xy坐标"
   ]
  },
  {
   "cell_type": "code",
   "execution_count": null,
   "id": "b1d020dc",
   "metadata": {},
   "outputs": [],
   "source": [
    "points = pd.read_csv('/300mcenterpoint.csv')"
   ]
  },
  {
   "cell_type": "code",
   "execution_count": null,
   "id": "4cd0c532",
   "metadata": {},
   "outputs": [],
   "source": [
    "for i in points.index:\n",
    "    if points.iloc[i,1] < 180:\n",
    "        points.iloc[i,1] = (points.iloc[i,1] + 180)*math.pi/180\n",
    "    else:\n",
    "        points.iloc[i,1] = (points.iloc[i,1] - 180)*math.pi/180\n",
    "pt = points.groupby(['Tri_Index','Slope_Pct','Aspect']).first()\n",
    "pt = pt.to_dict()['p.xy']"
   ]
  },
  {
   "cell_type": "code",
   "execution_count": 17,
   "id": "f102f60d",
   "metadata": {},
   "outputs": [],
   "source": [
    "trilist = []\n",
    "for key in pt:\n",
    "    trilist.append(key)\n",
    "# trilist[6]  #随机点所在的三角形的编号，坡度，坡向（反向"
   ]
  },
  {
   "cell_type": "markdown",
   "id": "281a54de",
   "metadata": {},
   "source": [
    "## 字典tridict\n",
    "\n",
    "通过tirdict来使用三角形的索引编号来定位三角形"
   ]
  },
  {
   "cell_type": "code",
   "execution_count": null,
   "id": "3e186285",
   "metadata": {},
   "outputs": [],
   "source": [
    "tridict = {}\n",
    "for i in trilist:\n",
    "    key = i[0]\n",
    "    value = i\n",
    "    tridict[key] = value"
   ]
  },
  {
   "cell_type": "code",
   "execution_count": 22,
   "id": "f1de5926",
   "metadata": {},
   "outputs": [],
   "source": [
    "def point(p):  # 字符串坐标转化为列表形式的浮点坐标的函数\n",
    "    num = p.count(',')\n",
    "    if num < 2:   # 当坐标为输入坐标的'x, y, z'，即坐标中包含高程值z时，逗号\",\"的数量为2，当输入的坐标没有z时则逗号的数量为1\n",
    "        return [float(p.split(',')[0]), float(p.split(',')[1])]\n",
    "    else:\n",
    "        return [float(p.split(',')[0]), float(p.split(',')[1]), float(p.split(',')[2])]\n",
    "# point(pt[tridict[6]])"
   ]
  },
  {
   "cell_type": "code",
   "execution_count": 23,
   "id": "17c5ce7e",
   "metadata": {},
   "outputs": [],
   "source": [
    "# 水流抵达公共边时找到水流流入的下一个三角形的函数\n",
    "def findtri(l1, l2, a):   # l1、l2是公共边两个顶点的所属三角形的列表，a是水流抵达公共边前所在的三角形编号\n",
    "    i = [item for item in l1 if item in l2]   # 取两个列表的交集，得到共边的两个三角形的编号\n",
    "    i.remove(a)  # 去掉原先所在的三角形编号，剩下的即为下一个要流入的三角形，若没有下一个三角形则说明水流抵达了边界\n",
    "    if i ==[]:\n",
    "        return None\n",
    "    else:\n",
    "        return i[0]"
   ]
  },
  {
   "cell_type": "code",
   "execution_count": 24,
   "id": "cb071d90",
   "metadata": {},
   "outputs": [],
   "source": [
    "def getsum(tri_index):   # 计算编号为tri_index的三角形的三个节点的高程总和\n",
    "    ttt = tndict[tridict[tri_index]]\n",
    "    thlist = []\n",
    "    for value in ttt.values():\n",
    "        h = point(value)\n",
    "        thlist.append(h[2])\n",
    "    return sum(thlist)\n",
    "# getsum(6)"
   ]
  },
  {
   "cell_type": "code",
   "execution_count": 25,
   "id": "064a9220",
   "metadata": {},
   "outputs": [],
   "source": [
    "# 当水流来到三角面片某一节点上，且该节点非局部最高点时，则水流流入三个节点高程总和较高的那一个三角面。\n",
    "def gettri(n1, n2):   # 输入该节点编号和其周围最高的节点的编号\n",
    "    l1 = ntdict[n1]\n",
    "    l2 = ntdict[n2]\n",
    "    tlist = [item for item in l1 if item in l2]    # 两点确定一条边，确定两个三角面片\n",
    "    if len(tlist) == 1:\n",
    "        return tlist[0]\n",
    "    elif len(tlist) == 2:\n",
    "        if getsum(tlist[0]) > getsum(tlist[1]):\n",
    "            return tlist[0]\n",
    "        else:\n",
    "            return tlist[1]"
   ]
  },
  {
   "cell_type": "code",
   "execution_count": 26,
   "id": "7931f248",
   "metadata": {
    "scrolled": true
   },
   "outputs": [],
   "source": [
    "def iftop(n_index):   # 当水流来到三角面片的某一节点上时，判断该节点是否为局部最高点\n",
    "    tri = ntdict[n_index]\n",
    "    pheight = []\n",
    "    for i in tri:\n",
    "        height = tndict[tridict[i]]\n",
    "        pheight.append(height)\n",
    "    nid = []\n",
    "    for i in pheight:\n",
    "        for key in i.keys():\n",
    "            if key not in nid:\n",
    "                nid.append(key)\n",
    "    xyzlist = []\n",
    "    for d in pheight:\n",
    "        for i in d.values():\n",
    "            pi = point(i)\n",
    "            if pi not in xyzlist:\n",
    "                xyzlist.append(pi)\n",
    "    hlist = []\n",
    "    for i in xyzlist:\n",
    "        hlist.append(i[2])\n",
    "    nh = dict(zip(nid, hlist))\n",
    "    maxp = []    # 记录了该节点周围高程最高的节点的编号的列表\n",
    "    for key, value in nh.items():\n",
    "        if value == max(nh.values()):\n",
    "            maxp.append(key)\n",
    "    if n_index in maxp:     # 若该节点在具有最高高程的节点的编号列表里，则该节点视为局部最高点\n",
    "        return None\n",
    "    elif len(maxp) == 2:    # 若具有最高高程的节点的编号有两个（不包括输入节点本身），则三点确定一个三角面片。\n",
    "        l1 = ntdict[maxp[0]]\n",
    "        l2 = ntdict[maxp[1]]\n",
    "        tri_index = [item for item in tri if item in l2 and item in l1]\n",
    "        if tri_index:\n",
    "            return tri_index[0]\n",
    "        else:\n",
    "            return 0.1\n",
    "    elif len(maxp) ==1:\n",
    "        tri_index = gettri(n_index, maxp[0])\n",
    "        return tri_index    # 不是局部最高点则使用gettri函数获取下一个三角面片的编号。"
   ]
  },
  {
   "cell_type": "code",
   "execution_count": 27,
   "id": "008384b7",
   "metadata": {},
   "outputs": [],
   "source": [
    "# 判断三点是否一线的函数：ac + bc = ab，则c在ab上，并且返回高程c与高程较高的端点间的距离\n",
    "def ifinline(a, b, c):   # 输入的a，b，c为[x, y, z]坐标\n",
    "    ab = round(math.sqrt((a[0] - b[0]) ** 2 + (a[1] - b[1]) ** 2), 2)\n",
    "    ac = round(math.sqrt((a[0] - c[0]) ** 2 + (a[1] - c[1]) ** 2), 2)\n",
    "    bc = round(math.sqrt((b[0] - c[0]) ** 2 + (b[1] - c[1]) ** 2), 2)\n",
    "    ac_cb = round(ac + bc,2)\n",
    "    if ac_cb == ab or abs(ac_cb - ab) < 0.04:\n",
    "        if a[2] > b[2]:\n",
    "            return [ac, a[2]]\n",
    "        elif b[2] > a[2]:\n",
    "            return [bc, b[2]]\n",
    "        else:\n",
    "            return None    # 两端点高程相同时返回0\n",
    "    else:\n",
    "        return None"
   ]
  },
  {
   "cell_type": "code",
   "execution_count": 28,
   "id": "394a1f7c",
   "metadata": {
    "code_folding": []
   },
   "outputs": [],
   "source": [
    "# 当水流处于山脊时，水流去往高程较高的一端。\n",
    "def ridge(p1, p2, p3, p):   # 输入三角形的三个节点\n",
    "    p1p2p = ifinline(p1, p2 ,p)    # 判断点p在那条边上（三点一线）\n",
    "    p1p3p = ifinline(p1, p3 ,p)\n",
    "    p2p3p = ifinline(p2, p3, p)\n",
    "    rrlist = []\n",
    "    if p1p2p:\n",
    "        if p1p2p[0] == 0:  \n",
    "            return None    # 两端点高高程相等时返回None\n",
    "        else:\n",
    "            if p1[2] > p2[2]:\n",
    "                rrlist.append([p1p2p, p1[:-1]])\n",
    "            else:\n",
    "                rrlist.append([p1p2p, p2[:-1]])\n",
    "    if p1p3p:\n",
    "        if p1p3p[0] ==0:\n",
    "            return None\n",
    "        else:\n",
    "            if p1[2] > p3[2]:\n",
    "                rrlist.append([p1p3p, p1[:-1]])\n",
    "            else:\n",
    "                rrlist.append([p1p3p, p3[:-1]])\n",
    "    if p2p3p:\n",
    "        if p2p3p[0] ==0:\n",
    "            return None\n",
    "        else:\n",
    "            if p2[2] > p3[2]:\n",
    "                rrlist.append([p2p3p, p2[:-1]])\n",
    "            else:\n",
    "                rrlist.append([p2p3p, p3[:-1]])\n",
    "    if not rrlist:\n",
    "        return None\n",
    "    elif len(rrlist) == 2:\n",
    "        if rrlist[0][0][1] > rrlist[1][0][1]:     #\n",
    "            length = rrlist[0][0][0]\n",
    "            nextp = rrlist[0][1]\n",
    "        else:\n",
    "            length = rrlist[1][0][0]\n",
    "            nextp = rrlist[1][1]\n",
    "    else:\n",
    "        length = rrlist[0][0][0]\n",
    "        nextp = rrlist[0][1]\n",
    "    rr = [length, nextp]   # 返回起始点和山脊上较高的端点的两点间距作为单元坡长，返回下一水流起始点\n",
    "    return rr"
   ]
  },
  {
   "cell_type": "code",
   "execution_count": 29,
   "id": "bdf2da97",
   "metadata": {},
   "outputs": [],
   "source": [
    "# 坡长递归计算函数\n",
    "def getslope(p, tri_index):    # 输入水流路径生成起始点和其所在的三角形的编号\n",
    "    nxy = []      # 顺序记录该三角面片的三个节点的坐标[x, y, z]的列表\n",
    "    for i in tndict[tridict[tri_index]].values():\n",
    "        nxy.append(point(i))\n",
    "    p1 = nxy[0]\n",
    "    p2 = nxy[1]\n",
    "    p3 = nxy[2]\n",
    "\n",
    "    pnode = []    # 顺序记录该三角面片的三个节点的不含高程的坐标[x, y]的列表\n",
    "    for i in nxy:\n",
    "        pnode.append(i[:-1])\n",
    "\n",
    "    nindex = []   # 顺序记录该三角面片的三个节点的编号的列表\n",
    "    for i in tndict[tridict[tri_index]].keys():\n",
    "        nindex.append(i)\n",
    "    n1 = nindex[0]\n",
    "    n2 = nindex[1]\n",
    "    n3 = nindex[2]\n",
    "\n",
    "    if p in pnode:    # 若水流路径生成的起始点在pnode列表里，说明其在三角面片的节点上\n",
    "        if p == pnode[0]:\n",
    "            n_index = n1    # 获取节点的编号\n",
    "        elif p == pnode[1]:\n",
    "            n_index = n2\n",
    "        else:\n",
    "            n_index = n3\n",
    "        triindex = iftop(n_index)    # 判断该节点是否是局部最高点，若不是则获取并更新下一个三角形的编号，若是则停止递归\n",
    "        if not triindex:\n",
    "            return 0\n",
    "        elif triindex == 0.1:\n",
    "            tri_indexri = triindex\n",
    "        else:\n",
    "            tri_index = triindex   # 更新三角形编号后，重新录入三个节点的坐标和编号。\n",
    "            nxy = []\n",
    "            for i in tndict[tridict[tri_index]].values():\n",
    "                nxy.append(point(i))\n",
    "            p1 = nxy[0]\n",
    "            p2 = nxy[1]\n",
    "            p3 = nxy[2]\n",
    "\n",
    "            nindex = []\n",
    "            for i in tndict[tridict[tri_index]].keys():\n",
    "                nindex.append(i)\n",
    "            n1 = nindex[0]\n",
    "            n2 = nindex[1]\n",
    "            n3 = nindex[2]\n",
    "\n",
    "    route.append(tri_index)   # 记录水流流经的三角形的编号\n",
    "    ray = line(sPoint=p, alpha=[tridict[tri_index][2]])   # 输入起始点p和三角形的坡向生成水流射线\n",
    "    l1 = dotPair(sPoint=p1, ePoint=p2)    # 三角形的三个节点分别形成三条线段\n",
    "    l2 = dotPair(sPoint=p1, ePoint=p3)\n",
    "    l3 = dotPair(sPoint=p2, ePoint=p3)\n",
    "    if getDistance(ray, l1) is not None:\n",
    "        length = getDistance(ray, l1)[1]\n",
    "        p = getDistance(ray, l1)[0]\n",
    "        tri_index = findtri(ntdict[n1], ntdict[n2], tri_index)\n",
    "    elif getDistance(ray, l2) is not None:\n",
    "        length = getDistance(ray, l2)[1]\n",
    "        p = getDistance(ray, l2)[0]\n",
    "        tri_index = findtri(ntdict[n1], ntdict[n3], tri_index)\n",
    "    elif getDistance(ray, l3) is not None:    # 三个if顺序判断水流射线与三条线段是否有交点，若有交点则计算单元坡长和交点坐标。\n",
    "        length = getDistance(ray, l3)[1]\n",
    "        p = getDistance(ray, l3)[0]    # 将交点作为下一个水流射线的起始点\n",
    "        tri_index = findtri(ntdict[n2], ntdict[n3], tri_index)    # 水流抵达公共边时找到水流流入的下一个三角形\n",
    "    else:     # 若水流射线与三条边都没有交点，说明该边为山脊\n",
    "        pinridge = ridge(p1, p2, p3, p)\n",
    "        if not pinridge:\n",
    "            return 0\n",
    "        else:\n",
    "            length = pinridge[0]\n",
    "            p = pinridge[1]\n",
    "    routep.append(p)\n",
    "    if tri_index is None:\n",
    "        return 0\n",
    "    else:\n",
    "        slopel = length + getslope(p, tri_index)   # 坡长累加\n",
    "    return slopel"
   ]
  },
  {
   "cell_type": "code",
   "execution_count": null,
   "id": "a44e853f",
   "metadata": {},
   "outputs": [],
   "source": [
    "with open('/300mslopelength.csv', 'w', encoding='UTF8', newline='') as f:\n",
    "    header = ['tri_id', 'slopelength', 'routep']\n",
    "    writer = csv.writer(f)\n",
    "    writer.writerow(header)\n",
    "    for i in tqdm(tridict):\n",
    "        p = point(pt[tridict[i]])\n",
    "        routep = [p]\n",
    "        route = []\n",
    "        result = getslope(p, i)\n",
    "        data = [i, result, routep]\n",
    "        writer.writerow(data)"
   ]
  }
 ],
 "metadata": {
  "kernelspec": {
   "display_name": "Python 3 (ipykernel)",
   "language": "python",
   "name": "python3"
  },
  "language_info": {
   "codemirror_mode": {
    "name": "ipython",
    "version": 3
   },
   "file_extension": ".py",
   "mimetype": "text/x-python",
   "name": "python",
   "nbconvert_exporter": "python",
   "pygments_lexer": "ipython3",
   "version": "3.10.9"
  },
  "varInspector": {
   "cols": {
    "lenName": 16,
    "lenType": 16,
    "lenVar": 40
   },
   "kernels_config": {
    "python": {
     "delete_cmd_postfix": "",
     "delete_cmd_prefix": "del ",
     "library": "var_list.py",
     "varRefreshCmd": "print(var_dic_list())"
    },
    "r": {
     "delete_cmd_postfix": ") ",
     "delete_cmd_prefix": "rm(",
     "library": "var_list.r",
     "varRefreshCmd": "cat(var_dic_list()) "
    }
   },
   "types_to_exclude": [
    "module",
    "function",
    "builtin_function_or_method",
    "instance",
    "_Feature"
   ],
   "window_display": false
  }
 },
 "nbformat": 4,
 "nbformat_minor": 5
}
